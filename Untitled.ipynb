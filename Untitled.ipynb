{
 "cells": [
  {
   "cell_type": "code",
   "execution_count": null,
   "metadata": {
    "collapsed": true
   },
   "outputs": [],
   "source": [
    "import csv"
   ]
  },
  {
   "cell_type": "code",
   "execution_count": 13,
   "metadata": {
    "collapsed": false
   },
   "outputs": [
    {
     "name": "stdout",
     "output_type": "stream",
     "text": [
      "Chocolate Sandwich Cookies\n",
      "All-Seasons Salt\n",
      "Robust Golden Unsweetened Oolong Tea\n",
      "Smart Ones Classic Favorites Mini Rigatoni With Vodka Cream Sauce\n",
      "Green Chile Anytime Sauce\n",
      "Dry Nose Oil\n",
      "Pure Coconut Water With Orange\n",
      "Cut Russet Potatoes Steam N' Mash\n",
      "Light Strawberry Blueberry Yogurt\n",
      "Sparkling Orange Juice & Prickly Pear Beverage\n",
      "Peach Mango Juice\n",
      "Chocolate Fudge Layer Cake\n",
      "Saline Nasal Mist\n",
      "Fresh Scent Dishwasher Cleaner\n",
      "Overnight Diapers Size 6\n",
      "Mint Chocolate Flavored Syrup\n",
      "Rendered Duck Fat\n",
      "Pizza for One Suprema  Frozen Pizza\n",
      "Gluten Free Quinoa Three Cheese & Mushroom Blend\n",
      "Pomegranate Cranberry & Aloe Vera Enrich Drink\n",
      "Small & Medium Dental Dog Treats\n",
      "Fresh Breath Oral Rinse Mild Mint\n",
      "Organic Turkey Burgers\n",
      "Tri-Vi-Sol® Vitamins A-C-and D Supplement Drops for Infants\n",
      "Salted Caramel Lean Protein & Fiber Bar\n",
      "Fancy Feast Trout Feast Flaked Wet Cat Food\n",
      "Complete Spring Water Foaming Antibacterial Hand Wash\n",
      "Wheat Chex Cereal\n",
      "Fresh Cut Golden Sweet No Salt Added Whole Kernel Corn\n",
      "Three Cheese Ziti, Marinara with Meatballs\n",
      "White Pearl Onions\n",
      "Nacho Cheese White Bean Chips\n",
      "Organic Spaghetti Style Pasta\n",
      "Peanut Butter Cereal\n",
      "Italian Herb Porcini Mushrooms Chicken Sausage\n",
      "Traditional Lasagna with Meat Sauce Savory Italian Recipes\n",
      "Noodle Soup Mix With Chicken Broth\n",
      "Ultra Antibacterial Dish Liquid\n",
      "Daily Tangerine Citrus Flavored Beverage\n",
      "Beef Hot Links Beef Smoked Sausage With Chile Peppers\n",
      "Organic Sourdough Einkorn Crackers Rosemary\n",
      "Biotin 1000 mcg\n",
      "Organic Clementines\n",
      "Sparkling Raspberry Seltzer\n",
      "European Cucumber\n",
      "Raisin Cinnamon Bagels 5 count\n",
      "Onion Flavor Organic Roasted Seaweed Snack\n",
      "School Glue, Washable, No Run\n",
      "Vegetarian Grain Meat Sausages Italian - 4 CT\n"
     ]
    }
   ],
   "source": [
    "with open('products.csv', 'rb') as csvfile:\n",
    "    spamreader = csv.reader(csvfile, delimiter=',')\n",
    "    for i,row in enumerate(spamreader):\n",
    "        if i!=0 and i<50:\n",
    "            for j,word in enumerate(row):\n",
    "                if j!=0:\n",
    "                    if word.isdigit() !=True:\n",
    "                        print word"
   ]
  },
  {
   "cell_type": "code",
   "execution_count": 8,
   "metadata": {
    "collapsed": true
   },
   "outputs": [],
   "source": [
    "list = []"
   ]
  },
  {
   "cell_type": "code",
   "execution_count": null,
   "metadata": {
    "collapsed": true
   },
   "outputs": [],
   "source": [
    "list.append"
   ]
  },
  {
   "cell_type": "code",
   "execution_count": null,
   "metadata": {
    "collapsed": true
   },
   "outputs": [],
   "source": [
    ""
   ]
  }
 ],
 "metadata": {
  "kernelspec": {
   "display_name": "Python 2",
   "language": "python",
   "name": "python2"
  },
  "language_info": {
   "codemirror_mode": {
    "name": "ipython",
    "version": 2.0
   },
   "file_extension": ".py",
   "mimetype": "text/x-python",
   "name": "python",
   "nbconvert_exporter": "python",
   "pygments_lexer": "ipython2",
   "version": "2.7.9"
  }
 },
 "nbformat": 4,
 "nbformat_minor": 0
}